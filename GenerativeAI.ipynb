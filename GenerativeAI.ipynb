{
 "cells": [
  {
   "cell_type": "code",
   "execution_count": 6,
   "metadata": {},
   "outputs": [],
   "source": [
    "from langchain_community.llms import HuggingFaceHub \n",
    "from langchain.chains import LLMChain\n",
    "from langchain.prompts import PromptTemplate\n",
    "import os\n",
    "from getpass import getpass\n",
    "\n",
    "import warnings\n",
    "warnings.filterwarnings('ignore')"
   ]
  },
  {
   "cell_type": "code",
   "execution_count": 7,
   "metadata": {},
   "outputs": [],
   "source": [
    "HUGGINGFACEHUB_API_TOKEN = \"Your HF token here\"\n",
    "\n",
    "os.environ[\"HUGGINGFACEHUB_API_TOKEN\"] = HUGGINGFACEHUB_API_TOKEN\n",
    "\n",
    "llm = HuggingFaceHub(\n",
    "    repo_id=\"huggingfaceh4/zephyr-7b-alpha\",\n",
    "    model_kwargs={\"temperature\":0.4, \"max_length\": 64, \"max_new_tokens\":500}\n",
    "    )\n",
    "\n",
    "query = \"What exactly are eigenvalues?\"\n",
    "\n",
    "template = f\"\"\"\n",
    " <|system|>\n",
    "You are an honest AI assistant that 'exists' to follow instructions.\n",
    "Please be truthful and give direct answers.\n",
    "</s>\n",
    " <|user|>\n",
    " {query}\n",
    " </s>\n",
    " <|assistant|>\n",
    "\"\"\"\n",
    "\n",
    "prompt = PromptTemplate(template=template, input_variables=[\"query\"])\n",
    "\n",
    "llm_chain = LLMChain(prompt=prompt, llm=llm)"
   ]
  },
  {
   "cell_type": "code",
   "execution_count": 8,
   "metadata": {},
   "outputs": [
    {
     "name": "stdout",
     "output_type": "stream",
     "text": [
      "Eigenvalues are scalar values associated with the eigenvectors of a linear transformation or a matrix. They represent how the transformation or matrix stretches, compresses, or rotates the eigenvectors. In other words, they indicate the amount of change or scaling that occurs when a vector is transformed by a matrix or a linear transformation. The eigenvalues are the solutions to the characteristic equation of the matrix or the linear transformation. They are also known as the \"proper values\" or \"latent roots\" of the matrix or the transformation.\n"
     ]
    }
   ],
   "source": [
    "input1 = {\"query1\": query}\n",
    "\n",
    "print(llm_chain.run(input1))"
   ]
  }
 ],
 "metadata": {
  "kernelspec": {
   "display_name": "Python 3",
   "language": "python",
   "name": "python3"
  },
  "language_info": {
   "codemirror_mode": {
    "name": "ipython",
    "version": 3
   },
   "file_extension": ".py",
   "mimetype": "text/x-python",
   "name": "python",
   "nbconvert_exporter": "python",
   "pygments_lexer": "ipython3",
   "version": "3.11.4"
  }
 },
 "nbformat": 4,
 "nbformat_minor": 2
}
